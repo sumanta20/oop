{
  "nbformat": 4,
  "nbformat_minor": 0,
  "metadata": {
    "colab": {
      "provenance": []
    },
    "kernelspec": {
      "name": "python3",
      "display_name": "Python 3"
    },
    "language_info": {
      "name": "python"
    }
  },
  "cells": [
    {
      "cell_type": "code",
      "execution_count": null,
      "metadata": {
        "id": "Us79lD1Fd776"
      },
      "outputs": [],
      "source": []
    },
    {
      "cell_type": "markdown",
      "source": [
        "1.What is Object-Oriented Programming (OOP)?\n",
        "\n",
        "Object-Oriented Programming (OOP) is a programming paradigm that organizes code around objects rather than actions or logic. These objects represent real-world entities and are instances of classes, which define the structure and behavior of those objects.\n",
        "\n",
        "2.What is a class in OOP?\n",
        "\n",
        "In Object-Oriented Programming (OOP), a class is like a blueprint or template for creating objects.\n",
        "\n",
        "3.What is an object in OOP?\n",
        "\n",
        "In Object-Oriented Programming (OOP), an object is a fundamental building block that represents a real-world entity or concept. An object is an instance of a class, and it bundles data (attributes) and behaviors (methods) together.\n",
        "\n",
        "4.What is the difference between abstraction and encapsulation?\n",
        "\n",
        "*Abstraction is about hiding complex implementation details and showing only the essential features of an object. *Encapsulation is about bundling data (attributes) and methods that operate on that data within one unit, and restricting direct access to some components.\n",
        "\n",
        "5.What are dunder methods in Python?\n",
        "\n",
        "n Python, dunder methods (short for “double underscore” methods, also known as magic methods) are special methods with names surrounded by double underscores, like init, str, or add.\n",
        "\n",
        "They’re used to override or customize built-in Python behavior — such as object creation, string representation, operator overloading, etc.\n",
        "\n",
        "6.Explain the concept of inheritance in OOP?\n",
        "\n",
        "nheritance is a feature of OOP that allows a class (called a child or subclass) to inherit properties and methods from another class (called a parent or superclass).\n",
        "\n",
        "7.What is polymorphism in OOP?\n",
        "\n",
        "Polymorphism means “many forms”. In Object-Oriented Programming, it refers to the ability of different objects to respond to the same method name in different ways.\n",
        "\n",
        "8.How is encapsulation achieved in Python?\n",
        "\n",
        "In Python, encapsulation is achieved by restricting direct access to an object’s data and providing controlled access through methods. It’s all about protecting the internal state of an object from outside interference or misuse.\n",
        "\n",
        "9.What is a constructor in Python?\n",
        "\n",
        "A constructor in Python is a special method used to initialize a newly created object of a class. It sets up the object’s initial state by assigning values to its attributes.\n",
        "\n",
        "10.What are class and static methods in Python?\n",
        "\n",
        "A class method is a method that is bound to the class, not the instance. It can access or modify class state (i.e., class variables) that applies across all instances. A static method is just like a regular function inside a class — it doesn’t take self or cls as the first argument. It can’t access or modify instance or class data directly. It's used when you want to group utility functions within a class for organizational purposes.\n",
        "\n",
        "11.What is method overloading in Python?\n",
        "\n",
        "Method overloading is when you define multiple methods with the same name but different parameters (number or type), and the correct one is chosen based on how it's called.\n",
        "\n",
        "12.What is method overriding in OOP?\n",
        "\n",
        "Method overriding happens when a subclass (child class) provides a specific implementation of a method that is already defined in its superclass (parent class).\n",
        "\n",
        "Same method name\n",
        "\n",
        "Same parameters\n",
        "\n",
        "Different behavior\n",
        "\n",
        "It allows a subclass to customize or completely replace the behavior inherited from the parent class.\n",
        "\n",
        "13.What is a property decorator in Python?\n",
        "\n",
        "The @property decorator allows you to:\n",
        "\n",
        "Access a method like an attribute (without parentheses)\n",
        "\n",
        "Add logic to get, set, or delete an attribute\n",
        "\n",
        "Create read-only, computed, or validated attributes 14.Why is polymorphism important in OOP?\n",
        "\n",
        "Polymorphism is super important in Object-Oriented Programming (OOP) because it brings flexibility, extensibility, and cleaner code to the table.\n",
        "\n",
        "15.What is an abstract class in Python?\n",
        "\n",
        "n abstract class is a class that cannot be instantiated on its own. It's meant to be inherited by other classes, and it defines a common interface for all subclasses.\n",
        "\n",
        "It often includes abstract methods — methods that are declared but not implemented, forcing subclasses to provide their own implementation.\n",
        "\n",
        "16.What are the advantages of OOP?\n",
        "\n",
        "Awesome! Object-Oriented Programming (OOP) comes with a bunch of advantages that make software more organized, reusable, scalable, and easier to maintain.\n",
        "\n",
        "17.What is the difference between a class variable and an instance variable?\n",
        "\n",
        "🔹 1. Instance Variable Belongs to an object (instance) of the class\n",
        "\n",
        "Defined inside the constructor (init)\n",
        "\n",
        "Unique for each object\n",
        "\n",
        "Class Variable Belongs to the class itself, shared by all instances\n",
        "Defined outside of any method\n",
        "\n",
        "Changing it affects all objects, unless specifically overridden\n",
        "\n",
        "18.What is multiple inheritance in Python?\n",
        "\n",
        "Multiple inheritance means a class can inherit from more than one parent class.\n",
        "\n",
        "This allows a subclass to combine features and behaviors from multiple base classes.\n",
        "\n",
        "19.Explain the purpose of ‘’str’ and ‘repr’ ‘ methods in Python\n",
        "\n",
        "Both are dunder methods (a.k.a. magic methods) used to define how your objects are represented as strings.\n",
        "\n",
        "Method Purpose Used by str For --> end-users (readable)--> print(), str() repr For -->developers (debuggable) -->repr(), interactive shell, logs\n",
        "\n",
        "20.What is the significance of the ‘super()’ function in Python?\n",
        "\n",
        "super() gives you access to methods and properties of a parent (superclass) without explicitly naming it. It’s commonly used in method overriding, especially in init.\n",
        "\n",
        "21.What is the significance of the del method in Python?\n",
        "\n",
        "The del method in Python is a special (dunder) method that's called when an object is about to be destroyed, i.e., when it’s garbage collected.\n",
        "\n",
        "22.What is the difference between @staticmethod and @classmethod in Python?\n",
        "\n",
        "@staticmethod Does not take self or cls as the first argument.\n",
        "Takes cls (the class itself) as the first argument.\n",
        "\n",
        "23.How does polymorphism work in Python with inheritance?\n",
        "\n",
        "olymorphism is one of the core pillars of OOP, and Python handles it gracefully thanks to its dynamic typing and inheritance system.\n",
        "\n",
        "24.What is method chaining in Python OOP?\n",
        "\n",
        ". Method chaining is a slick and expressive coding style in Python — especially useful when working with object-oriented design.\n",
        "\n",
        "25.What is the purpose of the call method in Python?\n",
        "\n",
        "The call method allows an instance of a class to be called like a function.\n",
        "\n",
        "If a class defines call.\n",
        "\n"
      ],
      "metadata": {
        "id": "L_pKUAofeGCI"
      }
    },
    {
      "cell_type": "markdown",
      "source": [
        "1.Create a parent class Animal with a method speak() that prints a generic message. Create a child class Dog that overrides the speak() method to print \"Bark!\"."
      ],
      "metadata": {
        "id": "Rsgv_DSpeHxK"
      }
    },
    {
      "cell_type": "code",
      "source": [
        "#parent class\n",
        "class Animal:\n",
        "    def speak(self):\n",
        "        print(\"The animal makes a sound.\")\n",
        "\n",
        "# Child class\n",
        "class Dog(Animal):\n",
        "    def speak(self):\n",
        "        print(\"Bark!\")"
      ],
      "metadata": {
        "id": "B1Iye1FLeLZB"
      },
      "execution_count": null,
      "outputs": []
    },
    {
      "cell_type": "markdown",
      "source": [
        "2.Write a program to create an abstract class Shape with a method area(). Derive classes Circle and Rectangle from it and implement the area() method in both."
      ],
      "metadata": {
        "id": "mUus364-eQdN"
      }
    },
    {
      "cell_type": "code",
      "source": [
        "# Abstract base class\n",
        "class Shape(ABC):\n",
        "\n",
        "    @abstractmethod\n",
        "    def area(self):\n",
        "        pass\n",
        "\n",
        "# Derived class: Circle\n",
        "class Circle(Shape):\n",
        "    def __init__(self, radius):\n",
        "        self.radius = radius\n",
        "\n",
        "    def area(self):\n",
        "        return math.pi * self.radius ** 2\n",
        "\n",
        "# Derived class: Rectangle\n",
        "class Rectangle(Shape):\n",
        "    def __init__(self, width, height):\n",
        "        self.width = width\n",
        "        self.height = height\n",
        "\n",
        "    def area(self):\n",
        "        return self.width * self.height\n",
        "\n",
        "# Example usage\n",
        "c = Circle(5)\n",
        "r = Rectangle(4, 6)\n",
        "\n",
        "print(f\"Circle area: {c.area():.2f}\")       # Output: Circle area: 78.54\n",
        "print(f\"Rectangle area: {r.area()}\")       # Output: Rectangle area: 24\n"
      ],
      "metadata": {
        "id": "lM_ushPieTtL"
      },
      "execution_count": null,
      "outputs": []
    },
    {
      "cell_type": "markdown",
      "source": [
        "3. Implement a multi-level inheritance scenario where a class Vehicle has an attribute type. Derive a class Car and further derive a class ElectricCar that adds a battery attribute."
      ],
      "metadata": {
        "id": "Skbnw0oieg2Z"
      }
    },
    {
      "cell_type": "code",
      "source": [
        "# Base class\n",
        "class Vehicle:\n",
        "    def __init__(self, vehicle_type):\n",
        "        self.type = vehicle_type\n",
        "\n",
        "    def show_type(self):\n",
        "        print(f\"Vehicle type: {self.type}\")\n",
        "\n",
        "# Derived class (level 1)\n",
        "class Car(Vehicle):\n",
        "    def __init__(self, vehicle_type, brand):\n",
        "        super().__init__(vehicle_type)\n",
        "        self.brand = brand\n",
        "\n",
        "    def show_brand(self):\n",
        "        print(f\"Car brand: {self.brand}\")\n",
        "\n",
        "# Derived class (level 2)\n",
        "class ElectricCar(Car):\n",
        "    def __init__(self, vehicle_type, brand, battery):\n",
        "        super().__init__(vehicle_type, brand)\n",
        "        self.battery = battery\n",
        "\n",
        "    def show_battery(self):\n",
        "        print(f\"Battery capacity: {self.battery} kWh\")\n",
        "\n",
        "# Example usage\n",
        "e_car = ElectricCar(\"Electric\", \"Tesla\", 75)\n",
        "\n",
        "e_car.show_type()      # Vehicle type: Electric\n",
        "e_car.show_brand()     # Car brand: Tesla\n",
        "e_car.show_battery()   # Battery capacity: 75 kWh"
      ],
      "metadata": {
        "id": "a4Irzgpeehoc"
      },
      "execution_count": null,
      "outputs": []
    },
    {
      "cell_type": "markdown",
      "source": [
        "4.Demonstrate polymorphism by creating a base class Bird with a method fly(). Create two derived classes Sparrow and Penguin that override the fly() method."
      ],
      "metadata": {
        "id": "jlqFuIYoer36"
      }
    },
    {
      "cell_type": "code",
      "source": [
        "# Base class\n",
        "class Bird:\n",
        "    def fly(self):\n",
        "        print(\"Bird is flying...\")\n",
        "\n",
        "# Derived class: Sparrow\n",
        "class Sparrow(Bird):\n",
        "    def fly(self):\n",
        "        print(\"Sparrow flies high in the sky.\")\n",
        "\n",
        "# Derived class: Penguin\n",
        "class Penguin(Bird):\n",
        "    def fly(self):\n",
        "        print(\"Penguins can't fly, but they swim really well!\")\n",
        "\n",
        "# Function demonstrating polymorphism\n",
        "def make_bird_fly(bird):\n",
        "    bird.fly()\n",
        "\n",
        "# Example usage\n",
        "birds = [Sparrow(), Penguin()]\n",
        "\n",
        "for b in birds:\n",
        "    make_bird_fly(b)\n"
      ],
      "metadata": {
        "id": "J6yfR_EDezwK"
      },
      "execution_count": null,
      "outputs": []
    },
    {
      "cell_type": "markdown",
      "source": [
        "5.. Write a program to demonstrate encapsulation by creating a class BankAccount with private attributes balance and methods to deposit, withdraw, and check balance."
      ],
      "metadata": {
        "id": "iEPorEgOe5Xh"
      }
    },
    {
      "cell_type": "code",
      "source": [
        "class BankAccount:\n",
        "    def __init__(self, initial_balance=0):\n",
        "        self.__balance = initial_balance  # Private attribute\n",
        "\n",
        "    def deposit(self, amount):\n",
        "        if amount > 0:\n",
        "            self.__balance += amount\n",
        "            print(f\"Deposited: ${amount}\")\n",
        "        else:\n",
        "            print(\"Deposit amount must be positive.\")\n",
        "\n",
        "    def withdraw(self, amount):\n",
        "        if 0 < amount <= self.__balance:\n",
        "            self.__balance -= amount\n",
        "            print(f\"Withdrawn: ${amount}\")\n",
        "        else:\n",
        "            print(\"Invalid withdrawal or insufficient balance.\")\n",
        "\n",
        "    def check_balance(self):\n",
        "        print(f\"Current Balance: ${self.__balance}\")\n"
      ],
      "metadata": {
        "id": "a1kvOMBie5-j"
      },
      "execution_count": null,
      "outputs": []
    },
    {
      "cell_type": "markdown",
      "source": [
        "6.Demonstrate runtime polymorphism using a method play() in a base class Instrument. Derive classes Guitar and Piano that implement their own version of play().\n",
        "\n"
      ],
      "metadata": {
        "id": "lUqSm0JHfGDV"
      }
    },
    {
      "cell_type": "code",
      "source": [
        "# Base class\n",
        "class Instrument:\n",
        "    def play(self):\n",
        "        print(\"The instrument is being played.\")\n",
        "\n",
        "# Derived class: Guitar\n",
        "class Guitar(Instrument):\n",
        "    def play(self):\n",
        "        print(\"Strumming the guitar 🎸.\")\n",
        "\n",
        "# Derived class: Piano\n",
        "class Piano(Instrument):\n",
        "    def play(self):\n",
        "        print(\"Playing the piano 🎹.\")\n",
        "\n",
        "# Function that demonstrates runtime polymorphism\n",
        "def perform(instrument):\n",
        "    instrument.play()\n"
      ],
      "metadata": {
        "id": "haFphhpDfPMR"
      },
      "execution_count": null,
      "outputs": []
    },
    {
      "cell_type": "markdown",
      "source": [
        "7.Create a class MathOperations with a class method add_numbers() to add two numbers and a static method subtract_numbers() to subtract two numbers.\n"
      ],
      "metadata": {
        "id": "xJGN203HfS0Z"
      }
    },
    {
      "cell_type": "code",
      "source": [
        "@classmethod\n",
        "    def add_numbers(cls, a, b):\n",
        "        return a + b\n",
        "\n",
        "    @staticmethod\n",
        "    def subtract_numbers(a, b):\n",
        "        return a - b\n",
        "\n",
        "# Example usage\n",
        "print(\"Addition:\", MathOperations.add_numbers(10, 5))       # Outpclass MathOperations:\n",
        "ut: 15\n",
        "print(\"Subtraction:\", MathOperations.subtract_numbers(10, 5))  # Output: 5\n"
      ],
      "metadata": {
        "id": "QQPXhbEufT9v"
      },
      "execution_count": null,
      "outputs": []
    },
    {
      "cell_type": "markdown",
      "source": [
        "8.Implement a class Person with a class method to count the total number of persons created."
      ],
      "metadata": {
        "id": "omaCS6CWfeLm"
      }
    },
    {
      "cell_type": "code",
      "source": [
        "class Person:\n",
        "    # Class variable to count instances\n",
        "    count = 0\n",
        "\n",
        "    def __init__(self, name):\n",
        "        self.name = name\n",
        "        Person.count += 1  # Increment count when a new Person is created\n",
        "\n",
        "    @classmethod\n",
        "    def total_persons(cls):\n",
        "        return cls.count"
      ],
      "metadata": {
        "id": "H5HhO9h-ffRk"
      },
      "execution_count": null,
      "outputs": []
    },
    {
      "cell_type": "markdown",
      "source": [
        "9.Write a class Fraction with attributes numerator and denominator. Override the str method to display the fraction as \"numerator/denominator\"."
      ],
      "metadata": {
        "id": "lHB1AKN7fpC1"
      }
    },
    {
      "cell_type": "code",
      "source": [
        "class Fraction:\n",
        "    def __init__(self, numerator, denominator):\n",
        "        self.numerator = numerator\n",
        "        self.denominator = denominator\n",
        "\n",
        "    def __str__(self):\n",
        "        return f\"{self.numerator}/{self.denominator}\""
      ],
      "metadata": {
        "id": "Uct5SLclfqAc"
      },
      "execution_count": null,
      "outputs": []
    },
    {
      "cell_type": "markdown",
      "source": [
        "10.. Demonstrate operator overloading by creating a class Vector and overriding the add method to add two vectors."
      ],
      "metadata": {
        "id": "sY6h6hWsfzzX"
      }
    },
    {
      "cell_type": "code",
      "source": [
        "class Vector:\n",
        "    def __init__(self, x, y):\n",
        "        self.x = x\n",
        "        self.y = y\n",
        "\n",
        "    def __add__(self, other):\n",
        "        if isinstance(other, Vector):\n",
        "            return Vector(self.x + other.x, self.y + other.y)\n",
        "        return NotImplemented\n",
        "\n",
        "    def __str__(self):\n",
        "        return f\"({self.x}, {self.y})\""
      ],
      "metadata": {
        "id": "KV1Vss8Kf61o"
      },
      "execution_count": null,
      "outputs": []
    },
    {
      "cell_type": "markdown",
      "source": [
        "11.Create a class Person with attributes name and age. Add a method greet() that prints \"Hello, my name is {name} and I am {age} years old.\""
      ],
      "metadata": {
        "id": "sjhkiWW3f9hz"
      }
    },
    {
      "cell_type": "code",
      "source": [
        "class Person:\n",
        "    def __init__(self, name, age):\n",
        "        self.name = name\n",
        "        self.age = age\n",
        "\n",
        "    def greet(self):\n",
        "        print(f\"Hello, my name is {self.name} and I am {self.age} years old.\")"
      ],
      "metadata": {
        "id": "wqxgGUyzgAyd"
      },
      "execution_count": null,
      "outputs": []
    },
    {
      "cell_type": "markdown",
      "source": [
        "12. Implement a class Student with attributes name and grades. Create a method average_grade() to compute the average of the grades."
      ],
      "metadata": {
        "id": "o5yNKtwBgK_2"
      }
    },
    {
      "cell_type": "code",
      "source": [
        "class Student:\n",
        "    def __init__(self, name, grades):\n",
        "        self.name = name\n",
        "        self.grades = grades  # List of numeric grades\n",
        "\n",
        "    def average_grade(self):\n",
        "        if self.grades:\n",
        "            return sum(self.grades) / len(self.grades)\n",
        "        return 0\n"
      ],
      "metadata": {
        "id": "wNHbTu_KgNvX"
      },
      "execution_count": null,
      "outputs": []
    },
    {
      "cell_type": "markdown",
      "source": [
        "13.Create a class Rectangle with methods set_dimensions() to set the dimensions and area() to calculate the area."
      ],
      "metadata": {
        "id": "RbfoIfHUgQBR"
      }
    },
    {
      "cell_type": "code",
      "source": [
        "class Rectangle:\n",
        "    def __init__(self):\n",
        "        self.length = 0\n",
        "        self.width = 0\n",
        "\n",
        "    def set_dimensions(self, length, width):\n",
        "        self.length = length\n",
        "        self.width = width\n",
        "\n",
        "    def area(self):\n",
        "        return self.length * self.width\n"
      ],
      "metadata": {
        "id": "NEWoR9tmgR4-"
      },
      "execution_count": null,
      "outputs": []
    },
    {
      "cell_type": "markdown",
      "source": [
        "14.Create a class Employee with a method calculate_salary() that computes the salary based on hours worked and hourly rate. Create a derived class Manager that adds a bonus to the salary"
      ],
      "metadata": {
        "id": "ztPXgdzigho_"
      }
    },
    {
      "cell_type": "code",
      "source": [
        "# Base class\n",
        "class Employee:\n",
        "    def __init__(self, name, hours_worked, hourly_rate):\n",
        "        self.name = name\n",
        "        self.hours_worked = hours_worked\n",
        "        self.hourly_rate = hourly_rate\n"
      ],
      "metadata": {
        "id": "P5hh0IJcgkZE"
      },
      "execution_count": null,
      "outputs": []
    },
    {
      "cell_type": "markdown",
      "source": [
        "15.. Create a class Product with attributes name, price, and quantity. Implement a method total_price() that calculates the total price of the product."
      ],
      "metadata": {
        "id": "MV3SiBcxgxo4"
      }
    },
    {
      "cell_type": "code",
      "source": [
        "class Product:\n",
        "    def __init__(self, name, price, quantity):\n",
        "        self.name = name\n",
        "        self.price = price\n",
        "        self"
      ],
      "metadata": {
        "id": "0aW3isZvg7ZH"
      },
      "execution_count": null,
      "outputs": []
    },
    {
      "cell_type": "markdown",
      "source": [
        "16.Create a class Animal with an abstract method sound(). Create two derived classes Cow and Sheep that implement the sound() method."
      ],
      "metadata": {
        "id": "03XKnJDihB8D"
      }
    },
    {
      "cell_type": "code",
      "source": [
        "from abc import ABC, abstractmethod\n",
        "\n",
        "# Abstract base class\n",
        "class Animal(ABC):\n",
        "    @abstractmethod\n",
        "    def sound(self):\n",
        "        pass\n",
        "\n",
        "# Derived class: Cow\n",
        "class Cow(Animal):\n",
        "    def sound(self):\n",
        "        return \"Moo\"\n",
        "\n",
        "# Derived class: Sheep\n",
        "class Sheep(Animal):\n",
        "    def sound(self):\n",
        "        return \"Baa\""
      ],
      "metadata": {
        "id": "f7P0tJ2ohEvi"
      },
      "execution_count": null,
      "outputs": []
    }
  ]
}